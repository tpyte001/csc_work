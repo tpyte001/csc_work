{
  "nbformat": 4,
  "nbformat_minor": 0,
  "metadata": {
    "colab": {
      "provenance": [],
      "collapsed_sections": [],
      "authorship_tag": "ABX9TyOHbQkxRBTfCwkyWB8+cyQX",
      "include_colab_link": true
    },
    "kernelspec": {
      "name": "python3",
      "display_name": "Python 3"
    },
    "language_info": {
      "name": "python"
    }
  },
  "cells": [
    {
      "cell_type": "markdown",
      "metadata": {
        "id": "view-in-github",
        "colab_type": "text"
      },
      "source": [
        "<a href=\"https://colab.research.google.com/github/tpyte001/csc_work/blob/main/PythonTutorial.ipynb\" target=\"_parent\"><img src=\"https://colab.research.google.com/assets/colab-badge.svg\" alt=\"Open In Colab\"/></a>"
      ]
    },
    {
      "cell_type": "markdown",
      "source": [
        "Mutable Default Arguments"
      ],
      "metadata": {
        "id": "sZt8oBfby8EC"
      }
    },
    {
      "cell_type": "code",
      "execution_count": null,
      "metadata": {
        "id": "OPc-7VCXymH3"
      },
      "outputs": [],
      "source": [
        "def createStudent(name, age, grades=[]):\n",
        "  return {\n",
        "      'name': name,\n",
        "      'age': age,\n",
        "      'grades': grades,\n",
        "  }\n",
        "\n",
        "  chrisley = createStudent('Chrisley', 15)\n",
        "  dallas = createStudent('Dallas', 16)\n",
        "  "
      ]
    },
    {
      "cell_type": "markdown",
      "source": [
        "To add new grades (i.e. to update changing variables over time)"
      ],
      "metadata": {
        "id": "gVwM4TNszVcQ"
      }
    },
    {
      "cell_type": "code",
      "execution_count": 2,
      "metadata": {
        "colab": {
          "base_uri": "https://localhost:8080/"
        },
        "id": "VcX0UY_jzfPr",
        "outputId": "2ddeb5d1-3aa7-4ad0-d656-103476e6c4d8"
      },
      "outputs": [
        {
          "output_type": "stream",
          "name": "stdout",
          "text": [
            "[90]\n",
            "[90, 100]\n"
          ]
        }
      ],
      "source": [
        "def createStudent(name, age, grades=[]):\n",
        "  return {\n",
        "      'name': name,\n",
        "      'age': age,\n",
        "      'grades': grades,\n",
        "  }\n",
        "\n",
        "chrisley = createStudent('Chrisley', 15)\n",
        "dallas = createStudent('Dallas', 16)\n",
        "\n",
        "#create a new function to add grades\n",
        "\n",
        "def addGrade(student,grade):\n",
        "  student['grades'].append(grade)\n",
        "  print(student['grades'])\n",
        "\n",
        "addGrade(chrisley, 90)\n",
        "addGrade(dallas, 100) "
      ]
    },
    {
      "cell_type": "markdown",
      "source": [
        "Why does dallas have the output above instead of each student having individual grades?\n",
        "\n",
        "this is a \"gotcha\" moment, a coutnerintuitive feature of a programming language."
      ],
      "metadata": {
        "id": "Ml1WQFKl0FAR"
      }
    },
    {
      "cell_type": "code",
      "source": [
        "def update_order(new_item, current_order=[]):\n",
        "  current_order.append(new_item)\n",
        "  return current_order\n",
        "\n",
        "# First order, burger\n",
        "order1 = update_order({'item':'burger','cost':'3.50'})\n",
        "\n",
        "# Second order, soda\n",
        "order2 = update_order({'item':'soda','cost':'1.50'})\n",
        "\n",
        "print(order2)"
      ],
      "metadata": {
        "colab": {
          "base_uri": "https://localhost:8080/"
        },
        "id": "feQcDyBR0SSF",
        "outputId": "0f7b5716-86b6-4eee-c81e-b5bab1938f9f"
      },
      "execution_count": 3,
      "outputs": [
        {
          "output_type": "stream",
          "name": "stdout",
          "text": [
            "[{'item': 'burger', 'cost': '3.50'}, {'item': 'soda', 'cost': '1.50'}]\n"
          ]
        }
      ]
    },
    {
      "cell_type": "markdown",
      "source": [
        "Types of function arguements in python\n",
        "* Postional arguemnts: called by their position in the function definition\n",
        "* Keyword arguments: called by name\n",
        "* Default arguments: given default values\n"
      ],
      "metadata": {
        "id": "fITLJnch0_zN"
      }
    },
    {
      "cell_type": "code",
      "source": [
        "# postional argumemts:\n",
        "def print_name(first_name, last_name):\n",
        "  print(first_name, last_name)\n",
        "\n",
        "print_name('Jiho', 'Baggins')"
      ],
      "metadata": {
        "colab": {
          "base_uri": "https://localhost:8080/"
        },
        "id": "1Vxp8Y1H1kqS",
        "outputId": "3cebe3cb-c654-4852-88eb-1c8e101a58f7"
      },
      "execution_count": 5,
      "outputs": [
        {
          "output_type": "stream",
          "name": "stdout",
          "text": [
            "Jiho Baggins\n"
          ]
        }
      ]
    },
    {
      "cell_type": "code",
      "source": [
        "# keyword arguments:\n",
        "def print_name(first_name, last_name):\n",
        "  print(first_name, last_name)\n",
        "\n",
        "print_name(last_name='Baggins',first_name='jiho')"
      ],
      "metadata": {
        "colab": {
          "base_uri": "https://localhost:8080/"
        },
        "id": "kbHOtAyn1yN_",
        "outputId": "3da0c92e-2191-4124-ce7a-8a1951b676d7"
      },
      "execution_count": 6,
      "outputs": [
        {
          "output_type": "stream",
          "name": "stdout",
          "text": [
            "jiho Baggins\n"
          ]
        }
      ]
    },
    {
      "cell_type": "markdown",
      "source": [
        "Note in [6] that the arguments are called out of order but the keyword is specified and therefore correctly mapped"
      ],
      "metadata": {
        "id": "RHaF13tv2I7d"
      }
    },
    {
      "cell_type": "code",
      "source": [
        "# default arguments:\n",
        "def print_name(first_name='Jiho',last_name='Baggins'):\n",
        "  print(first_name,last_name)\n",
        "\n",
        "print_name()"
      ],
      "metadata": {
        "colab": {
          "base_uri": "https://localhost:8080/"
        },
        "id": "U6t6R6Mz2SMR",
        "outputId": "8c52c564-b03e-4be4-eac5-6a62c26b33ce"
      },
      "execution_count": 7,
      "outputs": [
        {
          "output_type": "stream",
          "name": "stdout",
          "text": [
            "Jiho Baggins\n"
          ]
        }
      ]
    },
    {
      "cell_type": "markdown",
      "source": [
        "We can expand the utility of functions by taking a varying number of argument types"
      ],
      "metadata": {
        "id": "T4gegkAp2fy3"
      }
    },
    {
      "cell_type": "code",
      "source": [
        "# program to track guest at table and status of guest\n",
        "# tablenumber: [name, vip_status]\n",
        "\n",
        "tables = {\n",
        "    1: ['Jiho', False]\n",
        "    2: [],\n",
        "    3: [],\n",
        "    4: [],\n",
        "    5: [],\n",
        "    6: [],\n",
        "    7: [],\n",
        "}\n",
        "\n",
        "print(tables)\n",
        "\n",
        "# to write a function which will take 3 arguments and add them to a table\n",
        "# in my dictionary:\n",
        "\n",
        "def assign_table(table_number,name,vip_status=False):\n",
        "  table = {}\n",
        "  table[table_number] = [name,vip_status]\n",
        "  "
      ],
      "metadata": {
        "id": "VDU5PzQN2qq0"
      },
      "execution_count": null,
      "outputs": []
    }
  ]
}